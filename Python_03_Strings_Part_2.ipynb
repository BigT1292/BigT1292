{
  "nbformat": 4,
  "nbformat_minor": 0,
  "metadata": {
    "colab": {
      "name": "Python_03_Strings_Part_2.ipynb",
      "provenance": [],
      "collapsed_sections": [],
      "toc_visible": true,
      "include_colab_link": true
    },
    "kernelspec": {
      "name": "python3",
      "display_name": "Python 3"
    },
    "language_info": {
      "name": "python"
    }
  },
  "cells": [
    {
      "cell_type": "markdown",
      "metadata": {
        "id": "view-in-github",
        "colab_type": "text"
      },
      "source": [
        "<a href=\"https://colab.research.google.com/github/BigT1292/BigT1292/blob/main/Python_03_Strings_Part_2.ipynb\" target=\"_parent\"><img src=\"https://colab.research.google.com/assets/colab-badge.svg\" alt=\"Open In Colab\"/></a>"
      ]
    },
    {
      "cell_type": "markdown",
      "metadata": {
        "id": "gpnJb0pAJc5k"
      },
      "source": [
        "\n",
        "<img src=\"https://user-images.githubusercontent.com/63881436/139043046-f689a1ec-989d-4a71-bb24-8a6b6a41d149.jpg\" alt=\"Wyton Station Logo\" width=\"100%\">\n"
      ]
    },
    {
      "cell_type": "markdown",
      "metadata": {
        "id": "73hkGlBmkii9"
      },
      "source": [
        "\n",
        "**<font color=\"grey\" size=5>Before you get started, don't forget to click \"File\" then \"Save a Copy in GitHub\" to save a copy of this tutorial into your GitHub repository. From the GitHub page that opens click the \"Open in Colab\" button to open your saved tutorial. Save any progress you make by clicking \"File\" then \"Save a Copy in GitHub\" again.</font>**"
      ]
    },
    {
      "cell_type": "markdown",
      "metadata": {
        "id": "zuYrYd78TSYj"
      },
      "source": [
        "**Note:**  If you see a word or phrase highlighted like this **<font color=\"red\">example</font>** you can find a definition in the **Definitions and Terms** section, located at the end of the tutorial."
      ]
    },
    {
      "cell_type": "markdown",
      "metadata": {
        "id": "4ztyeu1VTPrl"
      },
      "source": [
        "***"
      ]
    },
    {
      "cell_type": "markdown",
      "metadata": {
        "id": "Cjke0xC5JPc1"
      },
      "source": [
        "#**Introduction**\n"
      ]
    },
    {
      "cell_type": "markdown",
      "metadata": {
        "id": "W1KVO2n4mmar"
      },
      "source": [
        "In the previous tutorials we have been looking at simple data types, the previous tutorial specifically looked at string data types. We learned how to perform string concatenation, use string methods and use the `print()` function to output strings to the screen.\n",
        "\n",
        "We'eve already learned that strings are an important data type and they are used in Python to record text information. There are many uses of strings and this tutorial will dive deeper into the string data type.\n",
        "\n",
        "#####**What you'll learn in this tutorial?**\n",
        "\n",
        "1.   String Indexing and Slicing.\n",
        "2.   String Immutability.\n",
        "3.   String Formatting.\n",
        "\n",
        "At the end of the tutorial you will have the opportunity to test what you have learned."
      ]
    },
    {
      "cell_type": "markdown",
      "metadata": {
        "id": "e5rj5EfgRLZW"
      },
      "source": [
        "***"
      ]
    },
    {
      "cell_type": "markdown",
      "metadata": {
        "id": "HH_qTlPmyo0U"
      },
      "source": [
        "#**Strings in Python Part 2**\n"
      ]
    },
    {
      "cell_type": "markdown",
      "metadata": {
        "id": "su8NxNxUTYA_"
      },
      "source": [
        "## **String Indexing**"
      ]
    },
    {
      "cell_type": "markdown",
      "metadata": {
        "id": "5MZeaZfOTbpM"
      },
      "source": [
        "In the previous tutorial we briefly covered that everything in Python is an object and objects have their own unique properties and methods. String objects are also recognised as Python sequences and therefore support the use of an index positioning system. In simple terms each character in a string is assigned an index number that can be used to obtain an individual character or a range of characters. Python is a zero-based language which means the first character in a sequence starts with an index of 0.\n",
        "\n",
        "So how do we put this into practice?\n",
        "\n",
        "Let's have a look at an example and examine the syntax."
      ]
    },
    {
      "cell_type": "code",
      "source": [
        "my_string = 'Python'\n",
        "my_string[2]"
      ],
      "metadata": {
        "id": "bnHv0QyjDl04"
      },
      "execution_count": null,
      "outputs": []
    },
    {
      "cell_type": "markdown",
      "source": [
        "Notice the square brackets in the syntax above? The square brackets are written immediately after the object we wish to index without a space, inside the square brackets we enclose the value of the index we wish to obtain. In this example we pass in an index value of 2 to obtain the third character. Remember Python is zero-based so the first character is position 0, the next character is position 1 and so on. Also note the index value we enclose in square brackets is an integer and is not placed in quotation marks, otherwise we would get an error.\n",
        "\n",
        "The example above successfully obtains the character 't' from the string 'Python'.\n",
        "\n",
        "What if we want to index the last character of a string? We could do this using the index of that character:"
      ],
      "metadata": {
        "id": "Hnh_JEVmESG3"
      }
    },
    {
      "cell_type": "code",
      "source": [
        "my_string[5]"
      ],
      "metadata": {
        "id": "XCVzUIQNf7wi"
      },
      "execution_count": null,
      "outputs": []
    },
    {
      "cell_type": "markdown",
      "source": [
        "But what if we do not know the length of the string or the string is particularly long? Do we have to count to find out the index? Thankfully not, Python allows us to index in the reverse direction starting from the last character. When indexing in reverse we do not start with 0, we start with -1."
      ],
      "metadata": {
        "id": "Yp-s9aD3gBiY"
      }
    },
    {
      "cell_type": "code",
      "source": [
        "my_string[-1]"
      ],
      "metadata": {
        "id": "96NWtu_iESXX"
      },
      "execution_count": null,
      "outputs": []
    },
    {
      "cell_type": "markdown",
      "source": [
        "This is great, we now have a way to grab individual elements of a given string and use these elements in our code."
      ],
      "metadata": {
        "id": "a_ubyKAfiKnI"
      }
    },
    {
      "cell_type": "code",
      "source": [
        "#We could also output our indexed character using the print() function.\n",
        "print(my_string[-1])"
      ],
      "metadata": {
        "id": "3D3AOhDWhir5"
      },
      "execution_count": null,
      "outputs": []
    },
    {
      "cell_type": "code",
      "source": [
        "#Or assign the indexed character to a new variable\n",
        "indexed_char = my_string[-1]\n",
        "print(indexed_char)"
      ],
      "metadata": {
        "id": "R8OqIQBzh1Ox"
      },
      "execution_count": null,
      "outputs": []
    },
    {
      "cell_type": "markdown",
      "source": [
        "The diagram below demonstrates the index values both forward and reverse directions."
      ],
      "metadata": {
        "id": "rhcYD6zQglbR"
      }
    },
    {
      "cell_type": "markdown",
      "source": [
        "\n",
        "\n",
        "<img src=\"https://user-images.githubusercontent.com/91729702/140890336-52a1e42e-3474-4d84-9a89-b73b45b3eadc.png\" alt=\"String Indexing Diagram\" width=\"60%\">"
      ],
      "metadata": {
        "id": "ajHSAjNODkvg"
      }
    },
    {
      "cell_type": "markdown",
      "source": [
        "Now try indexing the following:"
      ],
      "metadata": {
        "id": "W2xHIqTchSfJ"
      }
    },
    {
      "cell_type": "code",
      "source": [
        "#Print the letter o from the provided variable (use the print function, it's good practice)\n",
        "string1 = 'Hello World'\n"
      ],
      "metadata": {
        "id": "9F26Y24ZhY4B"
      },
      "execution_count": null,
      "outputs": []
    },
    {
      "cell_type": "code",
      "source": [
        "#Print the letter h from the provided variable (use the print function, it's good practice)\n",
        "string2 = 'I love Python'\n"
      ],
      "metadata": {
        "id": "W2pAx19Ni4cK"
      },
      "execution_count": null,
      "outputs": []
    },
    {
      "cell_type": "markdown",
      "metadata": {
        "id": "LyBrWehUTa-3"
      },
      "source": [
        "***"
      ]
    },
    {
      "cell_type": "markdown",
      "metadata": {
        "id": "6tILSd1jTsZR"
      },
      "source": [
        "## **String Slicing**"
      ]
    },
    {
      "cell_type": "markdown",
      "metadata": {
        "id": "hm0Bt_myTsZR"
      },
      "source": [
        "indexing allows us to obtain individual characters of a string but what if we wanted a section or a range of characters? Slicing uses the same approach as indexing however we can specify multiple characters in one go. Let's see this in action:"
      ]
    },
    {
      "cell_type": "code",
      "source": [
        "my_string = 'Change the world by being yourself'\n",
        "my_string[0:16]"
      ],
      "metadata": {
        "id": "LGWBMjhikMuC"
      },
      "execution_count": null,
      "outputs": []
    },
    {
      "cell_type": "markdown",
      "source": [
        "The syntax above uses square brackets again but this time we see two seperate numbers seperated by a colon. The first number represents the first character to be included and the second number represents the first character **not** to be included. The slice therfore contains all characters from the start index up to but not including the second index. The index of 16 references the space between the words 'world' and 'by' and is omitted from the slice that we obtain .\n",
        "\n",
        "We can also use the colon without specifying a second index to stop at, this will obtain every character after the given index upto and including the last character of the string."
      ],
      "metadata": {
        "id": "dFQLVGhwk6_B"
      }
    },
    {
      "cell_type": "code",
      "source": [
        "my_string = 'Love For All, Hatred For None'\n",
        "my_string[14:]"
      ],
      "metadata": {
        "id": "CMG1pWt6m8-s"
      },
      "execution_count": null,
      "outputs": []
    },
    {
      "cell_type": "markdown",
      "source": [
        "We can see in the example above that the index of 14 slices the string from the start of the word 'Hatred' and continues to the end of the string. This is pretty useful. Let's practice some examples:"
      ],
      "metadata": {
        "id": "VSU1RXvjn2J4"
      }
    },
    {
      "cell_type": "code",
      "source": [
        "#Slice the string below to extract the word 'them'\n",
        "string1 = \"When things go wrong, don't go with them\"\n"
      ],
      "metadata": {
        "id": "Wm6EfIKX8774"
      },
      "execution_count": null,
      "outputs": []
    },
    {
      "cell_type": "code",
      "source": [
        "#Slice the string below to extract the word 'life'\n",
        "string2 = 'Turn every life situation into a positive one'\n"
      ],
      "metadata": {
        "id": "U1hgOSNU8-Nn"
      },
      "execution_count": null,
      "outputs": []
    },
    {
      "cell_type": "code",
      "source": [
        "#Slice the string below to extract the second 'positive' word using reverse indexing \n",
        "string3 = 'A positive mindset brings positive things'\n"
      ],
      "metadata": {
        "id": "9lo0gaqAoQE5"
      },
      "execution_count": null,
      "outputs": []
    },
    {
      "cell_type": "markdown",
      "source": [
        "Another option we have when slicing is choosing the number of steps taken when obtaining characters so that we can grab every second or third character in the specified range. Let's show an example to demonstrate:"
      ],
      "metadata": {
        "id": "Mckt7iar-UJU"
      }
    },
    {
      "cell_type": "code",
      "source": [
        "my_string = 'Pzyztzhzoznz zizsz zAzwzezszozmze'\n",
        "my_string[0:12:2]"
      ],
      "metadata": {
        "id": "WoH6BOOL-t1b"
      },
      "execution_count": null,
      "outputs": []
    },
    {
      "cell_type": "markdown",
      "source": [
        "Looking at the syntax above we can see a second colon is now used after the second number and a third number is provided after it. This third number represents the step, the example above starts at index 0 and includes the character at position 0 and then every other character up to but not including the 12th character. Essentially the slice skips all of the 'z' characters.\n",
        "\n",
        "We can do this in any step number we specify and we can also choose not to specify a character to stop the slice at but if we want to use a step we still need both colons. Examine the example below:"
      ],
      "metadata": {
        "id": "-3rNhmvq_qCX"
      }
    },
    {
      "cell_type": "code",
      "source": [
        "my_string = 'Pzzyzztzzhzzozznzz zzizzszz zzAzzwzzezzszzozzmzze'\n",
        "my_string[0::3]"
      ],
      "metadata": {
        "id": "yqguo2Du_foQ"
      },
      "execution_count": null,
      "outputs": []
    },
    {
      "cell_type": "markdown",
      "source": [
        "We have not specified to stop the slice at a specific character so the slice includes the whole string in steps of 3.\n",
        "\n",
        "We can use this slice functionality to reverse strings also using a negative step:"
      ],
      "metadata": {
        "id": "ztez8VKVA4Sc"
      }
    },
    {
      "cell_type": "code",
      "source": [
        "my_string = 'Python'\n",
        "my_string[-1::-1]"
      ],
      "metadata": {
        "id": "-n6DzNofBYtr"
      },
      "execution_count": null,
      "outputs": []
    },
    {
      "cell_type": "markdown",
      "source": [
        "Here we start our slice at the last character using '-1' as our starting index, we do not choose a character to stop the slice so it includes the whole string and we specify to move in steps of '-1' to move through the string in reverse.\n",
        "\n",
        "Indexing and slicing strings is really useful when wanting to extract information."
      ],
      "metadata": {
        "id": "VN6SBAWGBiTb"
      }
    },
    {
      "cell_type": "markdown",
      "metadata": {
        "id": "YjI4jkEcTsZR"
      },
      "source": [
        "***"
      ]
    },
    {
      "cell_type": "markdown",
      "metadata": {
        "id": "y-L4MvD4UE_C"
      },
      "source": [
        "## **String Immutability**"
      ]
    },
    {
      "cell_type": "markdown",
      "metadata": {
        "id": "ReOzyBx1UE_K"
      },
      "source": [
        "We know we can reassign the value of a string variable but if we tried to change a single character of an existing string using indexing what happens?"
      ]
    },
    {
      "cell_type": "code",
      "source": [
        "my_string = 'Nope'\n",
        "my_string[0] = 'H'"
      ],
      "metadata": {
        "id": "l6asp5wD4lXm"
      },
      "execution_count": null,
      "outputs": []
    },
    {
      "cell_type": "markdown",
      "source": [
        "In the example above we try to replace the first letter to make a new word and get a syntax error. Immutability means something is unable to change, the syntax error confirms this as we are not able to reassign part of an existing string. \n",
        "\n",
        "Instead we would have to reassign a new string to the variable or we can use string concatenation  as demonstrated below:"
      ],
      "metadata": {
        "id": "B76rZnXrum1T"
      }
    },
    {
      "cell_type": "code",
      "source": [
        "my_new_string = 'H' + my_string[1:]\n",
        "print(my_new_string)"
      ],
      "metadata": {
        "id": "3Kp5MKPdvnSE"
      },
      "execution_count": null,
      "outputs": []
    },
    {
      "cell_type": "markdown",
      "metadata": {
        "id": "jYoVcHtiUE_K"
      },
      "source": [
        "***"
      ]
    },
    {
      "cell_type": "markdown",
      "metadata": {
        "id": "UBMPfnI6y5jZ"
      },
      "source": [
        "## **String Formatting**"
      ]
    },
    {
      "cell_type": "markdown",
      "metadata": {
        "id": "hVeR0syOy5jh"
      },
      "source": [
        "The final aspect of strings we will look at is string formatting. String formatting is a way in which python allows us to inject values (commonly from variables) into strings. Think back to how we use string concatenation to join strings as shown in the print statement below:"
      ]
    },
    {
      "cell_type": "code",
      "source": [
        "name = 'Monty'\n",
        "print('My name is ' + name)"
      ],
      "metadata": {
        "id": "Ag-eQpN1LY2v"
      },
      "execution_count": null,
      "outputs": []
    },
    {
      "cell_type": "markdown",
      "source": [
        "String concatenation allows us to joinvalues from variables but it isn't the most efficent method. What if we wanted to join an integer value?"
      ],
      "metadata": {
        "id": "RlieoJ4mNBN-"
      }
    },
    {
      "cell_type": "code",
      "source": [
        "age = 36\n",
        "print('My age is ' + age)"
      ],
      "metadata": {
        "id": "i6KEJRUeNl-w"
      },
      "execution_count": null,
      "outputs": []
    },
    {
      "cell_type": "markdown",
      "source": [
        "We get a syntax error because we can only concatenate strings to strings. String formatting is much more dynamic. There are two main types of string formatting; f-string and `.format()`. The main difference is the version of Python we are using or we have installed."
      ],
      "metadata": {
        "id": "XKrssuijNyit"
      }
    },
    {
      "cell_type": "markdown",
      "metadata": {
        "id": "FgnNAof5zs6A"
      },
      "source": [
        "###**The .format() Method**"
      ]
    },
    {
      "cell_type": "markdown",
      "metadata": {
        "id": "CL16tSwWz3-4"
      },
      "source": [
        "Python version 2.6 and later supports the `.format()` method of formatting strings. In the last tutorial we looked at built in string methods and the `.format()` method is very much th same with a little unique syntax that we need to understand. Let's have a look:"
      ]
    },
    {
      "cell_type": "code",
      "source": [
        "name = 'Monty'\n",
        "print('My name is {0}'.format(name))"
      ],
      "metadata": {
        "colab": {
          "base_uri": "https://localhost:8080/"
        },
        "id": "cmWbGoERQHQ2",
        "outputId": "b654f411-2f38-47d2-b777-0a863014af26"
      },
      "execution_count": null,
      "outputs": [
        {
          "output_type": "stream",
          "name": "stdout",
          "text": [
            "My name is Monty\n"
          ]
        }
      ]
    },
    {
      "cell_type": "markdown",
      "source": [
        "As you can see we write our string as normal but we use a set of curly braces (`{}`) as a placeholder where we want a value to be injected. Outside of the string and immediately after it we use a full-stop to call the `format()` method. Inside the brackets of the format method we add the value we wish to inject into the string as an argument, in this example it is the value stored in the name variable. We place a 0 inside the curly braces to index the value from the arguments of the format() method. Remember Python is a zero-based language so when indexing we start at 0, we only have one argument so the index is 0.\n",
        "\n",
        "What about integer values and string formatting? Let's expand our string and include a second integer value:"
      ],
      "metadata": {
        "id": "6AJyB3tHQaTN"
      }
    },
    {
      "cell_type": "code",
      "source": [
        "name = 'Monty'\n",
        "age = 36\n",
        "print('My name is {0} and I am {1} years old'.format(name, age))"
      ],
      "metadata": {
        "colab": {
          "base_uri": "https://localhost:8080/"
        },
        "outputId": "c39ae2b3-e577-47ec-85cd-a4c3c42f25ab",
        "id": "i0kmBs1-SunS"
      },
      "execution_count": null,
      "outputs": [
        {
          "output_type": "stream",
          "name": "stdout",
          "text": [
            "My name is Monty and I am 36 years old\n"
          ]
        }
      ]
    },
    {
      "cell_type": "markdown",
      "source": [
        "We've added an additional age variable and to include this we add another `{}` placeholder within the string and add the variable to the list of arguments in the `format()` method. The new variable needs to be indexed and we provide the index position inside the new placeholder. You can insert as many values into a string as you like, the limit is roughly 206,000,000. \n",
        "\n",
        "We see that the integer value is displayed with no syntax errors. String formatting is dynamic and if a value can be represented as text this will be converted on the fly. Really useful and much more efficient then multiple concatenated strings.\n",
        "\n",
        "Practice using the `.format()` method below:"
      ],
      "metadata": {
        "id": "LcIQi1V6S6vG"
      }
    },
    {
      "cell_type": "code",
      "source": [
        "#Use a print function and the .format() method to write a sentence linking the shape to the number of sides it has using the provied variables\n",
        "shape = 'Square'\n",
        "sides = 4\n"
      ],
      "metadata": {
        "id": "6uCnrefTVv2X"
      },
      "execution_count": null,
      "outputs": []
    },
    {
      "cell_type": "markdown",
      "metadata": {
        "id": "fuWgAFhUzOEW"
      },
      "source": [
        "### **The f-string Method**"
      ]
    },
    {
      "cell_type": "markdown",
      "metadata": {
        "id": "HGVj_Y8WzlXz"
      },
      "source": [
        "Since Python version 3.6 the f-string has become the preferred approach to format strings. It is important to note that the f-string method is not backwards compatible with older version of Python. Like everything with technology, it is perpetually developed to be better than the version before it. The f-string approach to string formatting was developed to be more readable and concise. Let's have a look at how they differ to the `.format()` method:"
      ]
    },
    {
      "cell_type": "code",
      "source": [
        "name = 'Monty'\n",
        "print(f'My name is {name}')"
      ],
      "metadata": {
        "colab": {
          "base_uri": "https://localhost:8080/"
        },
        "id": "AgbJmEpZXKEP",
        "outputId": "421e1b91-f679-4326-e594-557e545c4160"
      },
      "execution_count": null,
      "outputs": [
        {
          "output_type": "stream",
          "name": "stdout",
          "text": [
            "My name is Monty\n"
          ]
        }
      ]
    },
    {
      "cell_type": "markdown",
      "source": [
        "The syntax of the f-string is to write an 'f' immediately infront of the string but outside of the string quotation. The same curly braces are used as a placeholder but this time we inject the variable name directly inside the curlybraces instead of having to use an index. The code immediately becomes more efficent and easier to read."
      ],
      "metadata": {
        "id": "RbOu4JSFXRNt"
      }
    },
    {
      "cell_type": "code",
      "source": [
        "name = 'Monty'\n",
        "age = 36\n",
        "print(f'My name is {name} and I am {age} years old')"
      ],
      "metadata": {
        "colab": {
          "base_uri": "https://localhost:8080/"
        },
        "id": "8mXYlpkhX7N2",
        "outputId": "bcb13316-6041-4754-ee74-30105817b2a9"
      },
      "execution_count": null,
      "outputs": [
        {
          "output_type": "stream",
          "name": "stdout",
          "text": [
            "My name is Monty and I am 36 years old\n"
          ]
        }
      ]
    },
    {
      "cell_type": "markdown",
      "source": [
        "Now practice using the f-string method below:"
      ],
      "metadata": {
        "id": "wbrvpU2bYJA9"
      }
    },
    {
      "cell_type": "code",
      "source": [
        "#Use a print function and the .format() method to write a sentence linking the shape to the number of sides it has using the provied variables\n",
        "shape = 'Triangle'\n",
        "sides = 3\n"
      ],
      "metadata": {
        "id": "I7WJ8_y_YSJi"
      },
      "execution_count": null,
      "outputs": []
    },
    {
      "cell_type": "markdown",
      "source": [
        "Both approaches of string formatting are compatable with the latest versions of python but it is important to be aware of the version you have installed on your system or a target system that any code you write is intended to be used upon."
      ],
      "metadata": {
        "id": "9PNRzV-BYXxN"
      }
    },
    {
      "cell_type": "markdown",
      "metadata": {
        "id": "wyXMLUkPy5jh"
      },
      "source": [
        "***"
      ]
    },
    {
      "cell_type": "markdown",
      "metadata": {
        "id": "cDj5sd1jvuEX"
      },
      "source": [
        "## **Test What You've Learned**"
      ]
    },
    {
      "cell_type": "markdown",
      "metadata": {
        "id": "OkyYmKvMv2OP"
      },
      "source": [
        "We have looked into several additional aspects of strings in this tutorial in particular using indexing to obtain sections of a string and using string formatting to efficiently inject values into our strings. Let's consolodate what we have learned with a few exercises. As always don't worry if you get stuck or if you're struggling, post any questions or queries to the community on the defence connect page or look online for a solution."
      ]
    },
    {
      "cell_type": "markdown",
      "source": [
        "The silver screen has been home to some highly acclaimed movies. Interestingly the phrase silver screen comes from when English speakers first started attending “the pictures” in the 1910s. Then Movie screens were coated with reflective metallic paint, resulting in a silver surface to better display the projected images. But what are some of the most highly rated films to grace the silver screen?\n",
        "\n",
        "Using the variables below use a print function and string formatting to construct a sentence like the example below:\n",
        "\n",
        "**La La Land was nominated for 14 academy awards in 2017.**\n",
        "\n",
        "Each film has already been matched with it's corresponding nominations and number i.e., movie1, nominations1 and year1 form a set."
      ],
      "metadata": {
        "id": "aSaqkw3cekdu"
      }
    },
    {
      "cell_type": "code",
      "metadata": {
        "id": "8H2QqpHuxvpQ"
      },
      "source": [
        "#Movie variables.\n",
        "movie1 = 'Ben-Hur'\n",
        "movie2 = 'Titanic'\n",
        "movie3 = 'The Lord of the Rings: The Return of the King'\n",
        "\n",
        "#Nominations variables.\n",
        "nominations1 = 12\n",
        "nominations2 = 14\n",
        "nominations3 = 11\n",
        "\n",
        "#Year variables.\n",
        "year1 = 1959\n",
        "year2 = 1997\n",
        "year3 = 2003"
      ],
      "execution_count": null,
      "outputs": []
    },
    {
      "cell_type": "markdown",
      "source": [
        "Using `.format()` method:"
      ],
      "metadata": {
        "id": "dHqoayTzbj3d"
      }
    },
    {
      "cell_type": "code",
      "source": [
        "#Write some code to output the first movie statement below using print() and .format().\n"
      ],
      "metadata": {
        "id": "w9ZvsVIeMgqW"
      },
      "execution_count": null,
      "outputs": []
    },
    {
      "cell_type": "code",
      "source": [
        "#Write some code to output the second movie statement below using print() and .format().\n"
      ],
      "metadata": {
        "id": "TnpOxnmGMi1g"
      },
      "execution_count": null,
      "outputs": []
    },
    {
      "cell_type": "code",
      "source": [
        "#Write some code to output the third movie statement below using print() and .format().\n"
      ],
      "metadata": {
        "id": "tBmnfPRGMl3L"
      },
      "execution_count": null,
      "outputs": []
    },
    {
      "cell_type": "markdown",
      "source": [
        "Using f-string method:"
      ],
      "metadata": {
        "id": "Vff15UbXbpZy"
      }
    },
    {
      "cell_type": "code",
      "source": [
        "#Write some code to output the first movie statement below using print() and f-string.\n"
      ],
      "metadata": {
        "id": "jlW6ConAbifI"
      },
      "execution_count": null,
      "outputs": []
    },
    {
      "cell_type": "code",
      "source": [
        "#Write some code to output the second movie statement below using print() and f-string.\n"
      ],
      "metadata": {
        "id": "5ZN_IjUMbifW"
      },
      "execution_count": null,
      "outputs": []
    },
    {
      "cell_type": "code",
      "source": [
        "#Write some code to output the third movie statement below using print() and f-string.\n"
      ],
      "metadata": {
        "id": "8tiRKzOsbifW"
      },
      "execution_count": null,
      "outputs": []
    },
    {
      "cell_type": "markdown",
      "metadata": {
        "id": "kzBQRgYVRgCR"
      },
      "source": [
        "***"
      ]
    },
    {
      "cell_type": "markdown",
      "metadata": {
        "id": "Alb6Y7VVWDrQ"
      },
      "source": [
        "##**Summary**\n",
        "\n",
        "We've learned about number data types and how we can use them in Python. We've covered:\n",
        "\n",
        "1.   Types of Numbers in Python.\n",
        "2.   Basic Arithmetic.\n",
        "3.   Differences between classic division and floor division.\n",
        "4.   Variable assignment and reassignment.\n",
        "\n",
        "\n",
        "These concepts are pretty straightforward but the applications for these will soon become immensely useful. What you'll find with Python is that the syntax and concepts are relatively easy, but the challenge (and the interesting parts!) comes with trying to use these concepts in a logical manner to solve problems. \n",
        "An example question might be something like: \n",
        "\n",
        "The sum of all prime numbers under 10 is 17. What is the sum of all prime numbers under 1,000?\n",
        "\n",
        "Currently you lack the knowledge to solve this programmatically but you could start to think about this and other complex problems.\n"
      ]
    },
    {
      "cell_type": "markdown",
      "metadata": {
        "id": "xJ2r6Qu1R0BG"
      },
      "source": [
        "***"
      ]
    },
    {
      "cell_type": "markdown",
      "metadata": {
        "id": "-ZsjgYV_5yqG"
      },
      "source": [
        "#**What you'll learn in the next tutorial?**\n",
        "\n",
        "We'll be back soon with another tutorial, but in the meantime feel free to practice what we've shown you so far.\n",
        "\n",
        "Next time we will look at another data type in strings,  if you are eager to learn and feel like looking at strings ahead of the next tutorial, you could do worse than look at [this](https://realpython.com/python-strings/) online tutorial.\n",
        "\n",
        "From all of us at the Wyton Coding Club admin team,\n",
        "\n",
        "Happy Coding!\n"
      ]
    },
    {
      "cell_type": "markdown",
      "metadata": {
        "id": "e4-6NoKqR1M-"
      },
      "source": [
        "***"
      ]
    },
    {
      "cell_type": "markdown",
      "metadata": {
        "id": "UYEa01aeqY1O"
      },
      "source": [
        "#**Definitions and Terms**\n",
        "\n",
        "**<font color=\"red\">syntax - </font>** <font color=\"red\">The syntax of the Python programming language is the set of rules which defines how a Python program will be written.</font>\n",
        "\n",
        "**<font color=\"red\">operator - </font>**<font color=\"red\">Special symbols in Python that carry out arithmetic or logical computation.</font>\n",
        "\n",
        "**<font color=\"red\">variable - </font>**<font color=\"red\">A Python variable is a symbolic name that is a reference or pointer to an object. Once an object is assigned to a variable, you can refer to the object by that name.</font>\n",
        "\n",
        "**<font color=\"red\">assignment - </font>**<font color=\"red\">We use Python assignment statements to assign values or objects to names.</font>\n",
        "\n",
        "\n",
        "**<font color=\"red\">reassignment - </font>**<font color=\"red\">The process of assigning a new value to a variable is called reassignment.</font>\n"
      ]
    }
  ]
}