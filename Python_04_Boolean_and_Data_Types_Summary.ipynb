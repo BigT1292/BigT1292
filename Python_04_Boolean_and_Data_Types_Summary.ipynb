{
  "nbformat": 4,
  "nbformat_minor": 0,
  "metadata": {
    "colab": {
      "name": "Python_04_Boolean_and_Data_Types_Summary.ipynb",
      "provenance": [],
      "collapsed_sections": [],
      "toc_visible": true,
      "include_colab_link": true
    },
    "kernelspec": {
      "name": "python3",
      "display_name": "Python 3"
    },
    "language_info": {
      "name": "python"
    }
  },
  "cells": [
    {
      "cell_type": "markdown",
      "metadata": {
        "id": "view-in-github",
        "colab_type": "text"
      },
      "source": [
        "<a href=\"https://colab.research.google.com/github/BigT1292/BigT1292/blob/main/Python_04_Boolean_and_Data_Types_Summary.ipynb\" target=\"_parent\"><img src=\"https://colab.research.google.com/assets/colab-badge.svg\" alt=\"Open In Colab\"/></a>"
      ]
    },
    {
      "cell_type": "markdown",
      "metadata": {
        "id": "gpnJb0pAJc5k"
      },
      "source": [
        "\n",
        "<img src=\"https://user-images.githubusercontent.com/63881436/139043046-f689a1ec-989d-4a71-bb24-8a6b6a41d149.jpg\" alt=\"Wyton Station Logo\" width=\"100%\">\n"
      ]
    },
    {
      "cell_type": "markdown",
      "metadata": {
        "id": "73hkGlBmkii9"
      },
      "source": [
        "\n",
        "**<font color=\"grey\" size=5>Before you get started, don't forget to click \"File\" then \"Save a Copy in GitHub\" to save a copy of this tutorial into your GitHub repository. From the GitHub page that opens click the \"Open in Colab\" button to open your saved tutorial. Save any progress you make by clicking \"File\" then \"Save a Copy in GitHub\" again.</font>**"
      ]
    },
    {
      "cell_type": "markdown",
      "metadata": {
        "id": "zuYrYd78TSYj"
      },
      "source": [
        "**Note:**  If you see a word or phrase highlighted like this **<font color=\"red\">example$^ {1}$</font>** you can find a definition in the **Definitions and Terms** section, located at the end of the tutorial."
      ]
    },
    {
      "cell_type": "markdown",
      "metadata": {
        "id": "4ztyeu1VTPrl"
      },
      "source": [
        "***"
      ]
    },
    {
      "cell_type": "markdown",
      "metadata": {
        "id": "Cjke0xC5JPc1"
      },
      "source": [
        "#**Introduction**\n"
      ]
    },
    {
      "cell_type": "markdown",
      "metadata": {
        "id": "W1KVO2n4mmar"
      },
      "source": [
        "Placeholder\n",
        "\n",
        "#####**What you'll learn in this tutorial?**\n",
        "\n",
        "1.   Placeholder.\n",
        "2.   Placeholder.\n",
        "3.   Placeholder.\n",
        "4.   Placeholder.\n",
        "\n",
        "At the end of the tutorial you will have the opportunity to test what you have learned."
      ]
    },
    {
      "cell_type": "markdown",
      "metadata": {
        "id": "e5rj5EfgRLZW"
      },
      "source": [
        "***"
      ]
    },
    {
      "cell_type": "markdown",
      "metadata": {
        "id": "HH_qTlPmyo0U"
      },
      "source": [
        "#**Boolean in Python**\n"
      ]
    },
    {
      "cell_type": "markdown",
      "metadata": {
        "id": "9GxbKjPWl9_D"
      },
      "source": [
        "##**Types of numbers**\n",
        "Python has various \"types\" of numbers, we'll mainly focus on integers and floating point numbers for this tutorial.\n",
        "\n",
        "Integers are  positive or negative whole numbers. 2 and -2 are examples of integers.\n",
        "\n",
        "Floating point numbers in Python are notable because they have a decimal point in them. Again these decimal numbers can be positive or negative. 2.0 and -2.1 are examples of floating point numbers. \n",
        "\n",
        "Exponents are also recognised by python written as e or E. Exponents are useful for writing very small or very large numbers. For example, float 0.000000123 can be written 1.23E-7\n",
        "\n",
        "Throughout this course we will be mainly working with integers or simple float number types.\n",
        "\n",
        "Now let's start with some basic arithmetic."
      ]
    },
    {
      "cell_type": "markdown",
      "metadata": {
        "id": "rHeHbGa4RP-N"
      },
      "source": [
        "***"
      ]
    },
    {
      "cell_type": "markdown",
      "metadata": {
        "id": "txYyaNw5lfGy"
      },
      "source": [
        "## **Basic Arithmetic**"
      ]
    },
    {
      "cell_type": "markdown",
      "metadata": {
        "id": "CF_tZcpploTh"
      },
      "source": [
        "Python can manipulate numbers in very much the same way that you would use a calculator. This is done through the use of an **<font color=\"red\">operator$^{2}$</font>**. An operator is a pythonic term for the symbol used to carry out a particular operation (hence the name). Here is a list of operators we can use:\n",
        "\n",
        "Operator  | Function \n",
        "----------|-------------\n",
        "+         | Addition\n",
        "-         | Subtraction \n",
        "*         | Multiplication\n",
        "/ | Division\n",
        "%| Modulus\n",
        "** | Exponentiation\n",
        "//| Floor Division\n"
      ]
    },
    {
      "cell_type": "code",
      "metadata": {
        "id": "cNhY0wv1e2S_",
        "colab": {
          "base_uri": "https://localhost:8080/"
        },
        "outputId": "c581d643-6c0f-4953-8ba6-51b61e9eaedc"
      },
      "source": [
        "# Addition (try replacing the values below so the output returns 42)\n",
        "40 + 2"
      ],
      "execution_count": null,
      "outputs": [
        {
          "output_type": "execute_result",
          "data": {
            "text/plain": [
              "42"
            ]
          },
          "metadata": {},
          "execution_count": 2
        }
      ]
    },
    {
      "cell_type": "code",
      "metadata": {
        "id": "1ijrHCotlw1p",
        "colab": {
          "base_uri": "https://localhost:8080/"
        },
        "outputId": "0f2561da-9c5c-4454-862c-9bfc9d65f098"
      },
      "source": [
        "# Subtraction (try replacing the values below so the output totals 14\n",
        "20-6"
      ],
      "execution_count": null,
      "outputs": [
        {
          "output_type": "execute_result",
          "data": {
            "text/plain": [
              "14"
            ]
          },
          "metadata": {},
          "execution_count": 3
        }
      ]
    },
    {
      "cell_type": "code",
      "metadata": {
        "id": "5eYFYBg1mBSS",
        "colab": {
          "base_uri": "https://localhost:8080/"
        },
        "outputId": "089362ce-8b50-423b-d997-d33aeba39659"
      },
      "source": [
        "# Multiplication (try replacing the values below so the output totals 20 )\n",
        "2*10"
      ],
      "execution_count": null,
      "outputs": [
        {
          "output_type": "execute_result",
          "data": {
            "text/plain": [
              "20"
            ]
          },
          "metadata": {},
          "execution_count": 4
        }
      ]
    },
    {
      "cell_type": "code",
      "metadata": {
        "id": "uAkeqoynoect",
        "colab": {
          "base_uri": "https://localhost:8080/"
        },
        "outputId": "03545820-98a9-4ef7-ac80-6d3b178a4d8e"
      },
      "source": [
        "# Division (try replacing the values below so the output totals 2.5 )\n",
        "5/2\n"
      ],
      "execution_count": null,
      "outputs": [
        {
          "output_type": "execute_result",
          "data": {
            "text/plain": [
              "2.5"
            ]
          },
          "metadata": {},
          "execution_count": 8
        }
      ]
    },
    {
      "cell_type": "code",
      "metadata": {
        "id": "bj7iMhbioplI",
        "colab": {
          "base_uri": "https://localhost:8080/"
        },
        "outputId": "f0848d5b-f0b6-466b-b02f-316adb8bc01f"
      },
      "source": [
        "# Floor Division (Run the cell and observe the output, see below for an explanation)\n",
        "7//4"
      ],
      "execution_count": null,
      "outputs": [
        {
          "output_type": "execute_result",
          "data": {
            "text/plain": [
              "1"
            ]
          },
          "metadata": {},
          "execution_count": 6
        }
      ]
    },
    {
      "cell_type": "markdown",
      "metadata": {
        "id": "PpU4f_wMpFRq"
      },
      "source": [
        "The reason we get the result above is because we are using \"floor\" division. The // operator (two forward slashes) truncates the decimal without rounding, and returns an integer result.\n",
        "\n",
        "What if we want the remainder after a division?"
      ]
    },
    {
      "cell_type": "code",
      "metadata": {
        "id": "XpOfn4hmpd-a",
        "colab": {
          "base_uri": "https://localhost:8080/"
        },
        "outputId": "0d8d4a56-b0d6-48c7-bc93-ea8afcb7a273"
      },
      "source": [
        "# Modulo\n",
        "7%4"
      ],
      "execution_count": null,
      "outputs": [
        {
          "output_type": "execute_result",
          "data": {
            "text/plain": [
              "3"
            ]
          },
          "metadata": {},
          "execution_count": 9
        }
      ]
    },
    {
      "cell_type": "markdown",
      "metadata": {
        "id": "_foR--9GpvLJ"
      },
      "source": [
        "4 goes into 7 once, with a remainder of 3. The % operator returns the remainder after division. One usecase of modulo is to check if a number is even or not. If the result of a given number %2 is equal to 0 then we know it is even."
      ]
    },
    {
      "cell_type": "code",
      "metadata": {
        "id": "EqM1HpcnpoAA",
        "colab": {
          "base_uri": "https://localhost:8080/"
        },
        "outputId": "a0483f9f-083f-4dbe-cf54-8c675902a5f2"
      },
      "source": [
        "# Powers (try replacing the values below so the output is 3 to the power of 3)\n",
        "2**3"
      ],
      "execution_count": null,
      "outputs": [
        {
          "output_type": "execute_result",
          "data": {
            "text/plain": [
              "8"
            ]
          },
          "metadata": {},
          "execution_count": 10
        }
      ]
    },
    {
      "cell_type": "code",
      "metadata": {
        "id": "WwpClivwslA5",
        "colab": {
          "base_uri": "https://localhost:8080/"
        },
        "outputId": "d60adcf1-0f95-42c1-a700-a92c6fa2a365"
      },
      "source": [
        "# You Can also do roots this way (The example below gives the square root of 4)\n",
        "4**0.5"
      ],
      "execution_count": null,
      "outputs": [
        {
          "output_type": "execute_result",
          "data": {
            "text/plain": [
              "2.0"
            ]
          },
          "metadata": {},
          "execution_count": 11
        }
      ]
    },
    {
      "cell_type": "code",
      "metadata": {
        "id": "4lVUemwtsuAI",
        "colab": {
          "base_uri": "https://localhost:8080/"
        },
        "outputId": "ca23ffcd-da3b-4e0e-c117-2386b513890c"
      },
      "source": [
        "# Order of Operations followed in Python (Brackets, Orders, Division, Multiplication, Addition, Subtraction (BODMAS))\n",
        "2 + 10 * 10 + 3"
      ],
      "execution_count": null,
      "outputs": [
        {
          "output_type": "execute_result",
          "data": {
            "text/plain": [
              "105"
            ]
          },
          "metadata": {},
          "execution_count": 12
        }
      ]
    },
    {
      "cell_type": "code",
      "metadata": {
        "id": "N2tuK1Pjtnnx",
        "colab": {
          "base_uri": "https://localhost:8080/"
        },
        "outputId": "0022a7b5-6e2a-44cc-9542-00794417b21c"
      },
      "source": [
        "# You can use parentheses to specify orders\n",
        "(2+10) * (10+3)"
      ],
      "execution_count": null,
      "outputs": [
        {
          "output_type": "execute_result",
          "data": {
            "text/plain": [
              "156"
            ]
          },
          "metadata": {},
          "execution_count": 13
        }
      ]
    },
    {
      "cell_type": "markdown",
      "metadata": {
        "id": "1hZqrhG6RTqs"
      },
      "source": [
        "***"
      ]
    },
    {
      "cell_type": "markdown",
      "metadata": {
        "id": "nzlj_rWjuhPX"
      },
      "source": [
        "## **Variable Assignments**"
      ]
    },
    {
      "cell_type": "markdown",
      "metadata": {
        "id": "jJfF2ajjuon3"
      },
      "source": [
        "Now that we've seen how to use numbers in Python as a calculator let's see how we can use numbers to create **<font color=\"red\">variables$^{3}$</font>**. A variable can be considered as a container that stores a value.\n",
        "\n",
        "When conducting variable **<font color=\"red\">assignment$^{4}$</font>** we use a single equals sign to apply labels to values. It is important to note that you must assign a variable before you can use it. \n",
        "\n",
        "Let's see a few examples of how we can do this."
      ]
    },
    {
      "cell_type": "code",
      "metadata": {
        "id": "VtWApSzEut9M"
      },
      "source": [
        "# Let's create an variable called \"a\" and assign it the number 5\n",
        "a = 5"
      ],
      "execution_count": null,
      "outputs": []
    },
    {
      "cell_type": "markdown",
      "metadata": {
        "id": "kqjOv39buxtX"
      },
      "source": [
        "Now if you call a in your Python code, Python will retrieve the value stored in the variable named a. Essentially it will treat a as if it was the number 5."
      ]
    },
    {
      "cell_type": "code",
      "metadata": {
        "id": "IaCjjn2ErzV7",
        "colab": {
          "base_uri": "https://localhost:8080/"
        },
        "outputId": "d368fa2d-094f-44a6-ca7a-f988b9c7b54e"
      },
      "source": [
        "# Let's recall the value stored in variable \"a\"\n",
        "a"
      ],
      "execution_count": null,
      "outputs": [
        {
          "output_type": "execute_result",
          "data": {
            "text/plain": [
              "5"
            ]
          },
          "metadata": {},
          "execution_count": 15
        }
      ]
    },
    {
      "cell_type": "code",
      "metadata": {
        "id": "NSk2FHQBuwkH",
        "colab": {
          "base_uri": "https://localhost:8080/"
        },
        "outputId": "20f4f31a-0600-40ea-ccfc-f72b6a5c3568"
      },
      "source": [
        "# We can call our variables to perform calculations using operators\n",
        "a+a"
      ],
      "execution_count": null,
      "outputs": [
        {
          "output_type": "execute_result",
          "data": {
            "text/plain": [
              "10"
            ]
          },
          "metadata": {},
          "execution_count": 16
        }
      ]
    },
    {
      "cell_type": "markdown",
      "metadata": {
        "id": "k-b26UBHfMxj"
      },
      "source": [
        "Another important thing to note with variable assignment is that everything on the right of the equals sign is processed first. The outcome of this process is then assigned to the variable name defined on the left of the equals."
      ]
    },
    {
      "cell_type": "code",
      "metadata": {
        "id": "l4y0d242fG44"
      },
      "source": [
        "# In the example below the a*a is processed firts with the result being assigned to the variable \"b\"\n",
        "b = a*a"
      ],
      "execution_count": null,
      "outputs": []
    },
    {
      "cell_type": "code",
      "metadata": {
        "colab": {
          "base_uri": "https://localhost:8080/"
        },
        "id": "aQVtYAL9fw06",
        "outputId": "a4d186c7-678d-4a15-b56a-7928ef11334e"
      },
      "source": [
        "b"
      ],
      "execution_count": null,
      "outputs": [
        {
          "output_type": "execute_result",
          "data": {
            "text/plain": [
              "25"
            ]
          },
          "metadata": {},
          "execution_count": 18
        }
      ]
    },
    {
      "cell_type": "markdown",
      "metadata": {
        "id": "IEmFtaA4u7Ut"
      },
      "source": [
        "What happens if we try to assign a new value to an existing variable? Will Python let us write it over?"
      ]
    },
    {
      "cell_type": "code",
      "metadata": {
        "colab": {
          "base_uri": "https://localhost:8080/"
        },
        "id": "MGpmk9Dwf-B1",
        "outputId": "22ad541c-68ab-4825-b774-9ce26b1bace7"
      },
      "source": [
        "# Let's remind ourselves what value is currently stored in \"a\"\n",
        "a"
      ],
      "execution_count": null,
      "outputs": [
        {
          "output_type": "execute_result",
          "data": {
            "text/plain": [
              "5"
            ]
          },
          "metadata": {},
          "execution_count": 19
        }
      ]
    },
    {
      "cell_type": "code",
      "metadata": {
        "id": "gWFr69APu3xX"
      },
      "source": [
        "# Now let's try to change the value of \"a\" to a new value\n",
        "a = 10"
      ],
      "execution_count": null,
      "outputs": []
    },
    {
      "cell_type": "code",
      "metadata": {
        "id": "0wLnwRc_vA8f",
        "colab": {
          "base_uri": "https://localhost:8080/"
        },
        "outputId": "0e7cebb0-5adf-4e64-b2a3-0914a4b4ad11"
      },
      "source": [
        "# Let's check what the value of \"a\" is now. Has it changed?\n",
        "a"
      ],
      "execution_count": null,
      "outputs": [
        {
          "output_type": "execute_result",
          "data": {
            "text/plain": [
              "10"
            ]
          },
          "metadata": {},
          "execution_count": 21
        }
      ]
    },
    {
      "cell_type": "markdown",
      "metadata": {
        "id": "GgZXWHA8vGev"
      },
      "source": [
        "Yes! Python allows you to write over assigned variable names, this is called **<font color=\"red\">reassignment$^{5}$</font>**. We can also use the variables themselves when doing the reassignment. Here is an example of what I mean:"
      ]
    },
    {
      "cell_type": "code",
      "metadata": {
        "id": "GAkCf7pVvCnH",
        "colab": {
          "base_uri": "https://localhost:8080/"
        },
        "outputId": "0662371a-14e3-44e4-e67a-0c5c62d8ac8a"
      },
      "source": [
        "# Let's remind ourselves what value is currently stored in \"a\"\n",
        "a"
      ],
      "execution_count": null,
      "outputs": [
        {
          "output_type": "execute_result",
          "data": {
            "text/plain": [
              "10"
            ]
          },
          "metadata": {},
          "execution_count": 22
        }
      ]
    },
    {
      "cell_type": "code",
      "metadata": {
        "id": "ig_pFxMmvLQx"
      },
      "source": [
        "# Let's reassign \"a\" using the current value stored in \"a\"\n",
        "a = a + a"
      ],
      "execution_count": null,
      "outputs": []
    },
    {
      "cell_type": "code",
      "metadata": {
        "id": "vWJ1E-K_vNqH",
        "colab": {
          "base_uri": "https://localhost:8080/"
        },
        "outputId": "be708316-3368-4ad5-f87f-275d9e807156"
      },
      "source": [
        "# Let's check what the value of \"a\" is now. \n",
        "a"
      ],
      "execution_count": null,
      "outputs": [
        {
          "output_type": "execute_result",
          "data": {
            "text/plain": [
              "20"
            ]
          },
          "metadata": {},
          "execution_count": 24
        }
      ]
    },
    {
      "cell_type": "markdown",
      "metadata": {
        "id": "jS_WShuSvaB3"
      },
      "source": [
        "The names you use when creating these labels need to follow a few rules:\n",
        "\n",
        "1. Names can not start with a number.\n",
        "2. There can be no spaces in the name, use _ instead (snake_case).\n",
        "3. Can't use any of these symbols :'\",<>/?|\\()!@#$%^&*~-+\n",
        "4. It's considered best practice that names are all lowercase.\n",
        "5. Avoid using the characters 'l' (lowercase letter el), 'O' (uppercase letter oh), \n",
        "   or 'I' (uppercase letter eye) as single character variable names.\n",
        "6. Avoid using words that have special meaning in Python ([keywords](https://docs.python.org/3/reference/lexical_analysis.html#keywords))\n",
        "\n",
        "\n",
        "Using variable names can be a very useful way to keep track of different variables in Python. For example:"
      ]
    },
    {
      "cell_type": "code",
      "metadata": {
        "id": "P27HQecfvPyX"
      },
      "source": [
        "# Use object names to keep better track of what's going on in your code!\n",
        "my_income = 100\n",
        "\n",
        "tax_rate = 0.1\n",
        "\n",
        "my_taxes = my_income*tax_rate"
      ],
      "execution_count": null,
      "outputs": []
    },
    {
      "cell_type": "code",
      "metadata": {
        "id": "LRogLp9rvf9H"
      },
      "source": [
        "# Show my taxes!\n",
        "my_taxes"
      ],
      "execution_count": null,
      "outputs": []
    },
    {
      "cell_type": "markdown",
      "metadata": {
        "id": "ckl73dZpvpqP"
      },
      "source": [
        "So what have we learned? We learned some of the basics of numbers in Python. We also learned how to do arithmetic and use Python as a basic calculator. We then wrapped it up with learning about Variable Assignment in Python."
      ]
    },
    {
      "cell_type": "markdown",
      "metadata": {
        "id": "QWusmwFiRclf"
      },
      "source": [
        "***"
      ]
    },
    {
      "cell_type": "markdown",
      "metadata": {
        "id": "cDj5sd1jvuEX"
      },
      "source": [
        "## **Test What You've Learned**"
      ]
    },
    {
      "cell_type": "markdown",
      "metadata": {
        "id": "OkyYmKvMv2OP"
      },
      "source": [
        "Now let's use what we have learned by applying it to a scenario.\n",
        "\n",
        "Monty earns a gross salary of 25,000 each year.\n",
        "Monty must pay 12% of his gross salary in National Insurance.\n",
        "Monty must pay a basic rate of Income Tax at 20% of his gross salary.\n",
        "\n",
        "You are to create variables for and calculate the following in the cells provided:\n",
        "\n",
        "*   The amount Monty must pay in Income Tax.\n",
        "*   The amount Monty must pay in National Insurance.\n",
        "*   The total combined deductions Monty must pay.\n",
        "*   The total net salary that Monty has remaining.\n",
        "*   The total net monthly income Monty will have.\n",
        "\n",
        "\n"
      ]
    },
    {
      "cell_type": "code",
      "metadata": {
        "id": "8H2QqpHuxvpQ",
        "colab": {
          "base_uri": "https://localhost:8080/"
        },
        "outputId": "276db738-ac43-4ba3-a0a6-6dfa4edb4ba9"
      },
      "source": [
        "#The amount Monty must pay in Income Tax.\n",
        "tax = 25000 * 0.2\n",
        "tax"
      ],
      "execution_count": null,
      "outputs": [
        {
          "output_type": "execute_result",
          "data": {
            "text/plain": [
              "5000.0"
            ]
          },
          "metadata": {},
          "execution_count": 25
        }
      ]
    },
    {
      "cell_type": "code",
      "metadata": {
        "id": "vD6aOjSLx0hv",
        "colab": {
          "base_uri": "https://localhost:8080/"
        },
        "outputId": "40478a89-dc81-40be-9eba-4460d92420c6"
      },
      "source": [
        "#The amount Monty must pay in National Insurance.\n",
        "nat = 25000 * 0.12\n",
        "nat"
      ],
      "execution_count": null,
      "outputs": [
        {
          "output_type": "execute_result",
          "data": {
            "text/plain": [
              "3000.0"
            ]
          },
          "metadata": {},
          "execution_count": 26
        }
      ]
    },
    {
      "cell_type": "code",
      "metadata": {
        "id": "H7zMdm99x0on"
      },
      "source": [
        "#The total combined deductions Monty must pay.\n",
        "tot_deductions = "
      ],
      "execution_count": null,
      "outputs": []
    },
    {
      "cell_type": "code",
      "metadata": {
        "id": "JMKmaQIHx0uy"
      },
      "source": [
        "#The total net salary that Monty has remaining.\n"
      ],
      "execution_count": null,
      "outputs": []
    },
    {
      "cell_type": "code",
      "metadata": {
        "id": "hB_gOoUYx00n"
      },
      "source": [
        "#The total net monthly income Monty will have.\n"
      ],
      "execution_count": null,
      "outputs": []
    },
    {
      "cell_type": "markdown",
      "metadata": {
        "id": "kzBQRgYVRgCR"
      },
      "source": [
        "***"
      ]
    },
    {
      "cell_type": "markdown",
      "metadata": {
        "id": "Vlpym5M-R-w2"
      },
      "source": [
        "Now build a temperature converter.\n",
        "\n",
        "The formula to go from Celsius to Farenheit is (°C x 9/5) + 32, meaning 0°C = 32°F.\n",
        "Create variables for C and F and return the conversions as below."
      ]
    },
    {
      "cell_type": "code",
      "metadata": {
        "id": "n_mdT16PS8lS"
      },
      "source": [
        "#Write some code that takes a temperature of 0°C and outputs 32°F (Don't worry about showing the unit in your output, just the numeric value)\n"
      ],
      "execution_count": null,
      "outputs": []
    },
    {
      "cell_type": "code",
      "metadata": {
        "id": "rdgaEmmzTZvu"
      },
      "source": [
        "#Do the same thing but take 32°F and output 0°C (You might want to Google the formula to convert Farneheit to Celcius)\n"
      ],
      "execution_count": null,
      "outputs": []
    },
    {
      "cell_type": "markdown",
      "metadata": {
        "id": "vKoZDktRRiVx"
      },
      "source": [
        "***"
      ]
    },
    {
      "cell_type": "markdown",
      "metadata": {
        "id": "nr4jLuLvT5Bd"
      },
      "source": [
        "Now let's test your use of `modulo` and `floor division` by answering the following questions:\n",
        "\n",
        "Dave loves collecting movie trilogies on DVD. In an attempt to display his collection Dave has bought a DVD display unit that holds 1400 individual DVDs.\n",
        "Dave is a bit of a perfectionist and wants to make sure he fills the display completely with no empty spaces."
      ]
    },
    {
      "cell_type": "code",
      "metadata": {
        "id": "RZW2GTXpUGCh"
      },
      "source": [
        "#Using the provided variables work out if the display unit is suitable for Dave to use.\n",
        "trilogy = 3\n",
        "display_capacity = 1400\n"
      ],
      "execution_count": null,
      "outputs": []
    },
    {
      "cell_type": "code",
      "metadata": {
        "id": "ykZv6DkD4Ztt"
      },
      "source": [
        "#Now work out how many complete trilogies in Dave's collection could be displayed.\n"
      ],
      "execution_count": null,
      "outputs": []
    },
    {
      "cell_type": "markdown",
      "metadata": {
        "id": "8UAmlQOoRr8P"
      },
      "source": [
        "***"
      ]
    },
    {
      "cell_type": "markdown",
      "metadata": {
        "id": "Alb6Y7VVWDrQ"
      },
      "source": [
        "##**Summary**\n",
        "\n",
        "We've learned about number data types and how we can use them in Python. We've covered:\n",
        "\n",
        "1.   Types of Numbers in Python.\n",
        "2.   Basic Arithmetic.\n",
        "3.   Differences between classic division and floor division.\n",
        "4.   Variable assignment and reassignment.\n",
        "\n",
        "\n",
        "These concepts are pretty straightforward but the applications for these will soon become immensely useful. What you'll find with Python is that the syntax and concepts are relatively easy, but the challenge (and the interesting parts!) comes with trying to use these concepts in a logical manner to solve problems. \n",
        "An example question might be something like: \n",
        "\n",
        "The sum of all prime numbers under 10 is 17. What is the sum of all prime numbers under 1,000?\n",
        "\n",
        "Currently you lack the knowledge to solve this programmatically but you could start to think about this and other complex problems.\n"
      ]
    },
    {
      "cell_type": "markdown",
      "metadata": {
        "id": "xJ2r6Qu1R0BG"
      },
      "source": [
        "***"
      ]
    },
    {
      "cell_type": "markdown",
      "metadata": {
        "id": "-ZsjgYV_5yqG"
      },
      "source": [
        "#**What you'll learn in the next tutorial?**\n",
        "\n",
        "We'll be back soon with another tutorial, but in the meantime feel free to practice what we've shown you so far.\n",
        "\n",
        "Next time we will look at another data type in strings,  if you are eager to learn and feel like looking at strings ahead of the next tutorial, you could do worse than look at [this](https://realpython.com/python-strings/) online tutorial.\n",
        "\n",
        "From all of us at the Wyton Coding Club admin team,\n",
        "\n",
        "Happy Coding!\n"
      ]
    },
    {
      "cell_type": "markdown",
      "metadata": {
        "id": "e4-6NoKqR1M-"
      },
      "source": [
        "***"
      ]
    },
    {
      "cell_type": "markdown",
      "metadata": {
        "id": "UYEa01aeqY1O"
      },
      "source": [
        "#**Definitions and Terms**\n",
        "\n",
        "**<font color=\"red\">$^{1}$syntax - </font>** <font color=\"red\">The syntax of the Python programming language is the set of rules which defines how a Python program will be written.</font>\n",
        "\n",
        "**<font color=\"red\">$^{2}$operator - </font>**<font color=\"red\">Special symbols in Python that carry out arithmetic or logical computation.</font>\n",
        "\n",
        "**<font color=\"red\">$^{3}$variable - </font>**<font color=\"red\">A Python variable is a symbolic name that is a reference or pointer to an object. Once an object is assigned to a variable, you can refer to the object by that name.</font>\n",
        "\n",
        "**<font color=\"red\">$^{4}$assignment - </font>**<font color=\"red\">We use Python assignment statements to assign values or objects to names.</font>\n",
        "\n",
        "\n",
        "**<font color=\"red\">$^{5}$reassignment - </font>**<font color=\"red\">The process of assigning a new value to a variable is called reassignment.</font>\n"
      ]
    }
  ]
}